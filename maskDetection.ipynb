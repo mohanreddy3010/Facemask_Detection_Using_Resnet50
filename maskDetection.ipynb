{
 "cells": [
  {
   "cell_type": "code",
   "execution_count": 1,
   "metadata": {
    "colab": {},
    "colab_type": "code",
    "id": "W-rV8PFK_Y6x"
   },
   "outputs": [],
   "source": [
    "from tensorflow.keras.applications import ResNet50\n",
    "from tensorflow.keras.models import Sequential\n",
    "from tensorflow.keras.layers import Dense, Flatten, GlobalAveragePooling2D\n",
    "from tensorflow.keras.applications.resnet50 import preprocess_input\n",
    "from tensorflow.keras.preprocessing.image import ImageDataGenerator\n",
    "import numpy as np\n",
    "import pandas as pd\n",
    "import re"
   ]
  },
  {
   "cell_type": "markdown",
   "metadata": {
    "colab_type": "text",
    "id": "s2XIAghN7P2T"
   },
   "source": [
    "# Defining Model"
   ]
  },
  {
   "cell_type": "code",
   "execution_count": 2,
   "metadata": {
    "colab": {},
    "colab_type": "code",
    "id": "vKkp55Gp7O3w"
   },
   "outputs": [
    {
     "name": "stdout",
     "output_type": "stream",
     "text": [
      "Downloading data from https://storage.googleapis.com/tensorflow/keras-applications/resnet/resnet50_weights_tf_dim_ordering_tf_kernels_notop.h5\n",
      "94773248/94765736 [==============================] - 84s 1us/step\n",
      "94781440/94765736 [==============================] - 84s 1us/step\n"
     ]
    }
   ],
   "source": [
    "num_classes = 2\n",
    "model = Sequential()\n",
    "model.add(ResNet50(include_top=False, pooling='avg', weights='imagenet'))\n",
    "model.add(Dense(num_classes, activation='softmax'))\n",
    "\n",
    "# not using the first layer for training\n",
    "model.layers[0].trainable = False"
   ]
  },
  {
   "cell_type": "markdown",
   "metadata": {
    "colab_type": "text",
    "id": "m5A52wNc7UPm"
   },
   "source": [
    "# Compile Model"
   ]
  },
  {
   "cell_type": "code",
   "execution_count": 3,
   "metadata": {
    "colab": {},
    "colab_type": "code",
    "id": "On1zsbm9AEtA"
   },
   "outputs": [],
   "source": [
    "model.compile(optimizer='sgd', \n",
    "                     loss='categorical_crossentropy', \n",
    "                     metrics=['accuracy'])"
   ]
  },
  {
   "cell_type": "markdown",
   "metadata": {
    "colab_type": "text",
    "id": "wLgrkDwp7hHr"
   },
   "source": [
    "# Image augmentation for preprocessing image"
   ]
  },
  {
   "cell_type": "code",
   "execution_count": 4,
   "metadata": {
    "colab": {},
    "colab_type": "code",
    "id": "v6d3tF3OMzHL"
   },
   "outputs": [],
   "source": [
    "# data augmentation for training images\n",
    "data_generator_with_aug = ImageDataGenerator(preprocessing_function=preprocess_input,\n",
    "                                              horizontal_flip = True, \n",
    "                                              width_shift_range = 0.1,\n",
    "                                              height_shift_range = 0.1)\n",
    "            \n",
    "# Speicy no augmentation that will be used for validation data\n",
    "data_generator_no_aug = ImageDataGenerator(preprocessing_function=preprocess_input)"
   ]
  },
  {
   "cell_type": "markdown",
   "metadata": {
    "colab_type": "text",
    "id": "xP9TPIKL8KrE"
   },
   "source": [
    "# Take image directly from director and apply augmentation"
   ]
  },
  {
   "cell_type": "code",
   "execution_count": 5,
   "metadata": {
    "colab": {
     "base_uri": "https://localhost:8080/",
     "height": 54
    },
    "colab_type": "code",
    "id": "Xd15VDFhDe3O",
    "outputId": "69dcdfb1-1a77-4869-d5e1-7cd4e19e3d43"
   },
   "outputs": [
    {
     "name": "stdout",
     "output_type": "stream",
     "text": [
      "Found 1200 images belonging to 2 classes.\n",
      "Found 600 images belonging to 2 classes.\n"
     ]
    }
   ],
   "source": [
    "#define image size height and width\n",
    "image_size = 224\n",
    "\n",
    "#Prepare training image\n",
    "train_generator = data_generator_with_aug.flow_from_directory(\n",
    "                                        directory='data/train',\n",
    "                                        classes = ['with_mask', 'without_mask'],\n",
    "                                        target_size=(image_size, image_size),\n",
    "                                        batch_size=10,\n",
    "                                        class_mode='categorical')\n",
    "#Prepare validation image\n",
    "validation_generator = data_generator_no_aug.flow_from_directory(\n",
    "                                        directory='data/val',\n",
    "                                        classes = ['with_mask', 'without_mask'],\n",
    "                                        target_size=(image_size, image_size),\n",
    "                                        class_mode='categorical')"
   ]
  },
  {
   "cell_type": "markdown",
   "metadata": {
    "colab_type": "text",
    "id": "egyQU56K8XOa"
   },
   "source": [
    "# Fit the model"
   ]
  },
  {
   "cell_type": "code",
   "execution_count": 6,
   "metadata": {
    "colab": {
     "base_uri": "https://localhost:8080/",
     "height": 163
    },
    "colab_type": "code",
    "id": "TDY-C13s8Zva",
    "outputId": "01160775-a467-4644-9d9a-de3026895d1f"
   },
   "outputs": [
    {
     "name": "stderr",
     "output_type": "stream",
     "text": [
      "C:\\Users\\ADMIN\\AppData\\Local\\Temp/ipykernel_14300/1442894033.py:1: UserWarning: `Model.fit_generator` is deprecated and will be removed in a future version. Please use `Model.fit`, which supports generators.\n",
      "  fit_stats = model.fit_generator(train_generator,\n"
     ]
    },
    {
     "name": "stdout",
     "output_type": "stream",
     "text": [
      "Epoch 1/4\n",
      "60/60 [==============================] - 52s 831ms/step - loss: 0.2163 - accuracy: 0.9300 - val_loss: 0.1205 - val_accuracy: 0.9688\n",
      "Epoch 2/4\n",
      "60/60 [==============================] - 53s 880ms/step - loss: 0.0675 - accuracy: 0.9783 - val_loss: 0.0582 - val_accuracy: 0.9688\n",
      "Epoch 3/4\n",
      "60/60 [==============================] - 54s 904ms/step - loss: 0.0412 - accuracy: 0.9900 - val_loss: 0.0399 - val_accuracy: 1.0000\n",
      "Epoch 4/4\n",
      "60/60 [==============================] - 57s 948ms/step - loss: 0.0397 - accuracy: 0.9883 - val_loss: 0.0297 - val_accuracy: 0.9688\n"
     ]
    }
   ],
   "source": [
    "fit_stats = model.fit_generator(train_generator,\n",
    "                                       steps_per_epoch=60,\n",
    "                                       epochs = 4,\n",
    "                                       validation_data=validation_generator,\n",
    "                                       validation_steps=1)"
   ]
  },
  {
   "cell_type": "markdown",
   "metadata": {
    "colab_type": "text",
    "id": "W5ofqSpT8l2R"
   },
   "source": [
    "# Testing with test image"
   ]
  },
  {
   "cell_type": "code",
   "execution_count": 7,
   "metadata": {
    "colab": {
     "base_uri": "https://localhost:8080/",
     "height": 54
    },
    "colab_type": "code",
    "id": "GSYPzqrwHVBk",
    "outputId": "3c8164a5-9a02-4bb3-83cf-28735e825905"
   },
   "outputs": [
    {
     "name": "stdout",
     "output_type": "stream",
     "text": [
      "Found 200 images belonging to 2 classes.\n"
     ]
    },
    {
     "name": "stderr",
     "output_type": "stream",
     "text": [
      "C:\\Users\\ADMIN\\AppData\\Local\\Temp/ipykernel_14300/3853895128.py:11: UserWarning: `Model.predict_generator` is deprecated and will be removed in a future version. Please use `Model.predict`, which supports generators.\n",
      "  pred=model.predict_generator(test_generator, steps=len(test_generator), verbose=1)\n"
     ]
    },
    {
     "name": "stdout",
     "output_type": "stream",
     "text": [
      "20/20 [==============================] - 18s 865ms/step\n"
     ]
    }
   ],
   "source": [
    "#collect test data from directory and process\n",
    "test_generator = data_generator_no_aug.flow_from_directory(\n",
    "    directory='data/test',\n",
    "    target_size=(image_size, image_size),\n",
    "    batch_size= 10,\n",
    "    class_mode=None,\n",
    "    shuffle=False\n",
    ")\n",
    "\n",
    "# Predict from generator (returns probabilities)\n",
    "pred=model.predict_generator(test_generator, steps=len(test_generator), verbose=1)\n",
    "# Get classes by np.round\n",
    "cl = np.round(pred)\n",
    "# Get filenames (set shuffle=false in generator is important)\n",
    "filenames=test_generator.filenames\n",
    "# Data frame\n",
    "\n",
    "real_class = []\n",
    "for file in filenames:\n",
    "  if re.search(\"with_mask\", file):\n",
    "    real_class.append(1.0)\n",
    "  else:\n",
    "    real_class.append(0.0)\n",
    "\n",
    "predicted_class = cl[:,0]\n",
    "\n",
    "results=pd.DataFrame({\"file\":filenames,\"pr\":pred[:,0], \"pred_class\":predicted_class, \"real_class\":real_class})"
   ]
  },
  {
   "cell_type": "code",
   "execution_count": 8,
   "metadata": {
    "colab": {
     "base_uri": "https://localhost:8080/",
     "height": 407
    },
    "colab_type": "code",
    "id": "b68ts5VmbCpR",
    "outputId": "cab36572-c705-4327-cad9-8ec60544fd2c"
   },
   "outputs": [
    {
     "data": {
      "text/html": [
       "<div>\n",
       "<style scoped>\n",
       "    .dataframe tbody tr th:only-of-type {\n",
       "        vertical-align: middle;\n",
       "    }\n",
       "\n",
       "    .dataframe tbody tr th {\n",
       "        vertical-align: top;\n",
       "    }\n",
       "\n",
       "    .dataframe thead th {\n",
       "        text-align: right;\n",
       "    }\n",
       "</style>\n",
       "<table border=\"1\" class=\"dataframe\">\n",
       "  <thead>\n",
       "    <tr style=\"text-align: right;\">\n",
       "      <th></th>\n",
       "      <th>file</th>\n",
       "      <th>pr</th>\n",
       "      <th>pred_class</th>\n",
       "      <th>real_class</th>\n",
       "    </tr>\n",
       "  </thead>\n",
       "  <tbody>\n",
       "    <tr>\n",
       "      <th>0</th>\n",
       "      <td>with_mask\\train_00000859.jpg</td>\n",
       "      <td>0.987060</td>\n",
       "      <td>1.0</td>\n",
       "      <td>1.0</td>\n",
       "    </tr>\n",
       "    <tr>\n",
       "      <th>1</th>\n",
       "      <td>with_mask\\train_00000860.jpg</td>\n",
       "      <td>0.999836</td>\n",
       "      <td>1.0</td>\n",
       "      <td>1.0</td>\n",
       "    </tr>\n",
       "    <tr>\n",
       "      <th>2</th>\n",
       "      <td>with_mask\\train_00000861.jpg</td>\n",
       "      <td>1.000000</td>\n",
       "      <td>1.0</td>\n",
       "      <td>1.0</td>\n",
       "    </tr>\n",
       "    <tr>\n",
       "      <th>3</th>\n",
       "      <td>with_mask\\train_00000862.jpg</td>\n",
       "      <td>0.999104</td>\n",
       "      <td>1.0</td>\n",
       "      <td>1.0</td>\n",
       "    </tr>\n",
       "    <tr>\n",
       "      <th>4</th>\n",
       "      <td>with_mask\\train_00000863.jpg</td>\n",
       "      <td>1.000000</td>\n",
       "      <td>1.0</td>\n",
       "      <td>1.0</td>\n",
       "    </tr>\n",
       "    <tr>\n",
       "      <th>...</th>\n",
       "      <td>...</td>\n",
       "      <td>...</td>\n",
       "      <td>...</td>\n",
       "      <td>...</td>\n",
       "    </tr>\n",
       "    <tr>\n",
       "      <th>195</th>\n",
       "      <td>without_mask\\53_0_0_20170120223141508.jpg</td>\n",
       "      <td>0.000048</td>\n",
       "      <td>0.0</td>\n",
       "      <td>0.0</td>\n",
       "    </tr>\n",
       "    <tr>\n",
       "      <th>196</th>\n",
       "      <td>without_mask\\53_0_0_20170120223144035.jpg</td>\n",
       "      <td>0.000018</td>\n",
       "      <td>0.0</td>\n",
       "      <td>0.0</td>\n",
       "    </tr>\n",
       "    <tr>\n",
       "      <th>197</th>\n",
       "      <td>without_mask\\5_0_3_20170119212110570.jpg</td>\n",
       "      <td>0.002906</td>\n",
       "      <td>0.0</td>\n",
       "      <td>0.0</td>\n",
       "    </tr>\n",
       "    <tr>\n",
       "      <th>198</th>\n",
       "      <td>without_mask\\5_1_3_20170119151512160.jpg</td>\n",
       "      <td>0.021719</td>\n",
       "      <td>0.0</td>\n",
       "      <td>0.0</td>\n",
       "    </tr>\n",
       "    <tr>\n",
       "      <th>199</th>\n",
       "      <td>without_mask\\5_1_3_20170119154358954.jpg</td>\n",
       "      <td>0.004741</td>\n",
       "      <td>0.0</td>\n",
       "      <td>0.0</td>\n",
       "    </tr>\n",
       "  </tbody>\n",
       "</table>\n",
       "<p>200 rows × 4 columns</p>\n",
       "</div>"
      ],
      "text/plain": [
       "                                          file        pr  pred_class  \\\n",
       "0                 with_mask\\train_00000859.jpg  0.987060         1.0   \n",
       "1                 with_mask\\train_00000860.jpg  0.999836         1.0   \n",
       "2                 with_mask\\train_00000861.jpg  1.000000         1.0   \n",
       "3                 with_mask\\train_00000862.jpg  0.999104         1.0   \n",
       "4                 with_mask\\train_00000863.jpg  1.000000         1.0   \n",
       "..                                         ...       ...         ...   \n",
       "195  without_mask\\53_0_0_20170120223141508.jpg  0.000048         0.0   \n",
       "196  without_mask\\53_0_0_20170120223144035.jpg  0.000018         0.0   \n",
       "197   without_mask\\5_0_3_20170119212110570.jpg  0.002906         0.0   \n",
       "198   without_mask\\5_1_3_20170119151512160.jpg  0.021719         0.0   \n",
       "199   without_mask\\5_1_3_20170119154358954.jpg  0.004741         0.0   \n",
       "\n",
       "     real_class  \n",
       "0           1.0  \n",
       "1           1.0  \n",
       "2           1.0  \n",
       "3           1.0  \n",
       "4           1.0  \n",
       "..          ...  \n",
       "195         0.0  \n",
       "196         0.0  \n",
       "197         0.0  \n",
       "198         0.0  \n",
       "199         0.0  \n",
       "\n",
       "[200 rows x 4 columns]"
      ]
     },
     "execution_count": 8,
     "metadata": {},
     "output_type": "execute_result"
    }
   ],
   "source": [
    "results"
   ]
  },
  {
   "cell_type": "code",
   "execution_count": 9,
   "metadata": {
    "colab": {
     "base_uri": "https://localhost:8080/",
     "height": 35
    },
    "colab_type": "code",
    "id": "8R4_Xs5a21iH",
    "outputId": "cd2f00a0-aaca-464c-e53d-438765922602"
   },
   "outputs": [
    {
     "name": "stdout",
     "output_type": "stream",
     "text": [
      "Accuracy : 1.0\n"
     ]
    }
   ],
   "source": [
    "res = sum(1 for x,y in zip(real_class,predicted_class) if x == y) / len(real_class)\n",
    "print(\"Accuracy :\", res)"
   ]
  },
  {
   "cell_type": "markdown",
   "metadata": {
    "colab_type": "text",
    "id": "R5YCEhnBiT6e"
   },
   "source": [
    "# Save Model"
   ]
  },
  {
   "cell_type": "code",
   "execution_count": 10,
   "metadata": {
    "colab": {},
    "colab_type": "code",
    "id": "GaKfpVijhX7i"
   },
   "outputs": [
    {
     "name": "stderr",
     "output_type": "stream",
     "text": [
      "c:\\users\\admin\\appdata\\local\\programs\\python\\python39\\lib\\site-packages\\keras\\engine\\functional.py:1410: CustomMaskWarning: Custom mask layers require a config and must override get_config. When loading, the custom mask layer must be passed to the custom_objects argument.\n",
      "  layer_config = serialize_layer_fn(layer)\n"
     ]
    }
   ],
   "source": [
    "model.save('maskDetectionModel.h5')"
   ]
  },
  {
   "cell_type": "code",
   "execution_count": null,
   "metadata": {},
   "outputs": [],
   "source": []
  }
 ],
 "metadata": {
  "accelerator": "GPU",
  "colab": {
   "authorship_tag": "ABX9TyMFi/BeB7ZWbpTuyutRO8AE",
   "include_colab_link": true,
   "name": "maskDetection.ipynb",
   "provenance": []
  },
  "kernelspec": {
   "display_name": "Python 3 (ipykernel)",
   "language": "python",
   "name": "python3"
  },
  "language_info": {
   "codemirror_mode": {
    "name": "ipython",
    "version": 3
   },
   "file_extension": ".py",
   "mimetype": "text/x-python",
   "name": "python",
   "nbconvert_exporter": "python",
   "pygments_lexer": "ipython3",
   "version": "3.9.6"
  }
 },
 "nbformat": 4,
 "nbformat_minor": 1
}
